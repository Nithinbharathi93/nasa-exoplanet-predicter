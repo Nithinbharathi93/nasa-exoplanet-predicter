{
  "cells": [
    {
      "cell_type": "markdown",
      "metadata": {
        "id": "xiSqduHeQWb6"
      },
      "source": [
        "# Balanced Exoplanet Classifier\n",
        "\n",
        "This notebook implements a machine learning model to classify exoplanets based on data from various space missions including Kepler, K2, and TESS. The classifier uses LightGBM to categorize celestial objects into three classes:\n",
        "- Confirmed Exoplanets\n",
        "- Candidate Exoplanets\n",
        "- False Positives\n",
        "\n",
        "The model takes into account various astronomical parameters and achieves balanced classification through careful feature engineering and data preprocessing."
      ]
    },
    {
      "cell_type": "markdown",
      "metadata": {
        "id": "0od2sIF9Qrgq"
      },
      "source": [
        "### Required Libraries and Dependencies\n",
        "\n",
        "This section imports the necessary Python libraries:\n",
        "- pandas: For data manipulation and analysis\n",
        "- numpy: For numerical operations\n",
        "- sklearn: For machine learning tools and metrics\n",
        "- lightgbm: For the gradient boosting classifier implementation"
      ]
    },
    {
      "cell_type": "code",
      "execution_count": 9,
      "metadata": {
        "id": "bGbj1xkAQZ7D"
      },
      "outputs": [],
      "source": [
        "import pandas as pd\n",
        "import numpy as np\n",
        "from sklearn.model_selection import train_test_split\n",
        "from sklearn.preprocessing import LabelEncoder\n",
        "from sklearn.metrics import classification_report, confusion_matrix, accuracy_score\n",
        "from lightgbm import LGBMClassifier"
      ]
    },
    {
      "cell_type": "markdown",
      "metadata": {
        "id": "ZzWmTzrTQbI7"
      },
      "source": [
        "### Data Source Configuration\n",
        "\n",
        "Setting up URLs for different exoplanet datasets from NASA's Exoplanet Archive:\n",
        "- Planetary Systems (PS): Complete database of confirmed exoplanets\n",
        "- Kepler: Exoplanets discovered by the Kepler Space Telescope\n",
        "- Kepler Objects of Interest (KOI): Candidate planets from Kepler mission\n",
        "- K2: Candidates and confirmed planets from K2 mission\n",
        "- TESS Objects of Interest (TOI): Candidates from TESS mission\n",
        "\n",
        "Each URL points to a specific dataset in CSV format accessible through the IPAC TAP service."
      ]
    },
    {
      "cell_type": "code",
      "execution_count": 10,
      "metadata": {
        "id": "Nn5pkEBnQwXk"
      },
      "outputs": [],
      "source": [
        "URLS = {\n",
        "    \"ps\": \"https://exoplanetarchive.ipac.caltech.edu/TAP/sync?query=select+*+from+ps&format=csv\",\n",
        "    \"kepler\": \"https://exoplanetarchive.ipac.caltech.edu/TAP/sync?query=select+*+from+ps+where+disc_facility+=+'Kepler'&format=csv\",\n",
        "    \"koi\": \"https://exoplanetarchive.ipac.caltech.edu/TAP/sync?query=select+*+from+cumulative&format=csv\",\n",
        "    \"k2\": \"https://exoplanetarchive.ipac.caltech.edu/TAP/sync?query=select+*+from+k2pandc&format=csv\",\n",
        "    \"k2_confirmed\": \"https://exoplanetarchive.ipac.caltech.edu/TAP/sync?query=select+*+from+ps+where+disc_facility+=+'K2'&format=csv\",\n",
        "    \"tess\": \"https://exoplanetarchive.ipac.caltech.edu/TAP/sync?query=select+*+from+toi&format=csv\",\n",
        "    \"tess_confirmed\": \"https://exoplanetarchive.ipac.caltech.edu/TAP/sync?query=select+*+from+ps+where+disc_facility+=+'TESS'&format=csv\",\n",
        "}"
      ]
    },
    {
      "cell_type": "markdown",
      "metadata": {
        "id": "gcQhSCKsQ1-D"
      },
      "source": [
        "### loading data"
      ]
    },
    {
      "cell_type": "code",
      "execution_count": 11,
      "metadata": {
        "id": "C8SPgyKGRHPp"
      },
      "outputs": [],
      "source": [
        "def load_csv(url, usecols=None):\n",
        "    try:\n",
        "        return pd.read_csv(url, usecols=usecols, low_memory=False)\n",
        "    except Exception as e:\n",
        "        print(f\"Error loading {url}: {e}\")\n",
        "        return pd.DataFrame()"
      ]
    },
    {
      "cell_type": "markdown",
      "metadata": {
        "id": "bW7q0x1wRL9X"
      },
      "source": [
        "### Feature Selection\n",
        "\n",
        "Defining the key astronomical parameters used for classification:\n",
        "- orb_period: Orbital period of the planet (days)\n",
        "- planet_radius: Radius of the planet (Earth radii)\n",
        "- planet_mass: Mass of the planet (Earth masses)\n",
        "- pl_eqt: Equilibrium temperature of the planet\n",
        "- st_teff: Effective temperature of the host star\n",
        "- st_rad: Radius of the host star (Solar radii)\n",
        "- st_mass: Mass of the host star (Solar masses)\n",
        "- sy_dist: Distance to the planetary system\n",
        "- transit_depth: Depth of the transit signal\n",
        "- transit_duration: Duration of the transit"
      ]
    },
    {
      "cell_type": "code",
      "execution_count": 12,
      "metadata": {
        "id": "tC7HABDKRsGW"
      },
      "outputs": [],
      "source": [
        "cols_common = [\"orb_period\", \"planet_radius\", \"planet_mass\", \"pl_eqt\",\n",
        "               \"st_teff\", \"st_rad\", \"st_mass\", \"sy_dist\",\n",
        "               \"transit_depth\", \"transit_duration\"]\n",
        "\n",
        "df_ps = load_csv(URLS[\"ps\"])\n",
        "df_kepler = load_csv(URLS[\"kepler\"])\n",
        "df_koi = load_csv(URLS[\"koi\"])\n",
        "df_k2 = load_csv(URLS[\"k2\"])\n",
        "df_k2_conf = load_csv(URLS[\"k2_confirmed\"])\n",
        "df_tess = load_csv(URLS[\"tess\"])\n",
        "df_tess_conf = load_csv(URLS[\"tess_confirmed\"])"
      ]
    },
    {
      "cell_type": "markdown",
      "metadata": {
        "id": "mS6qLLF1Rt_r"
      },
      "source": [
        "### Data Harmonization\n",
        "\n",
        "This section standardizes column names across different datasets:\n",
        "- Mapping KOI-specific column names to standard names\n",
        "- Normalizing Planetary System (PS) dataset columns\n",
        "- Standardizing K2 and TESS candidate datasets\n",
        "- Adding mission identifiers to track data sources\n",
        "\n",
        "This ensures consistency in feature names across all datasets before merging."
      ]
    },
    {
      "cell_type": "code",
      "execution_count": 13,
      "metadata": {
        "id": "8IZtTfhpR8Gw"
      },
      "outputs": [],
      "source": [
        "# KOI dataset\n",
        "df_koi = df_koi.rename(columns={\n",
        "    \"koi_period\": \"orb_period\",\n",
        "    \"koi_prad\": \"planet_radius\",\n",
        "    \"koi_duration\": \"transit_duration\",\n",
        "    \"koi_depth\": \"transit_depth\",\n",
        "    \"koi_steff\": \"st_teff\",\n",
        "    \"koi_slogg\": \"st_logg\",\n",
        "    \"koi_srad\": \"st_rad\",\n",
        "    \"koi_smass\": \"st_mass\",\n",
        "    \"koi_disposition\": \"disposition\"\n",
        "})\n",
        "df_koi[\"mission\"] = \"Kepler\"\n",
        "\n",
        "# Planetary System-based datasets (PS, Kepler, K2-confirmed, TESS-confirmed)\n",
        "def normalize_ps(df, mission_name):\n",
        "    if df.empty:\n",
        "        return df\n",
        "    df = df.rename(columns={\n",
        "        \"pl_orbper\": \"orb_period\",\n",
        "        \"pl_rade\": \"planet_radius\",\n",
        "        \"pl_bmasse\": \"planet_mass\",\n",
        "        \"pl_eqt\": \"pl_eqt\",\n",
        "        \"st_teff\": \"st_teff\",\n",
        "        \"st_rad\": \"st_rad\",\n",
        "        \"st_mass\": \"st_mass\",\n",
        "        \"sy_dist\": \"sy_dist\"\n",
        "    })\n",
        "    df[\"disposition\"] = \"CONFIRMED\"\n",
        "    df[\"mission\"] = mission_name\n",
        "    return df\n",
        "\n",
        "df_ps = normalize_ps(df_ps, \"General\")\n",
        "df_kepler = normalize_ps(df_kepler, \"Kepler\")\n",
        "df_k2_conf = normalize_ps(df_k2_conf, \"K2\")\n",
        "df_tess_conf = normalize_ps(df_tess_conf, \"TESS\")\n",
        "\n",
        "# K2 Candidate dataset\n",
        "if not df_k2.empty:\n",
        "    df_k2 = df_k2.rename(columns={\n",
        "        \"k2p_disposition\": \"disposition\",\n",
        "        \"k2p_period\": \"orb_period\",\n",
        "        \"k2p_prad\": \"planet_radius\",\n",
        "        \"k2p_teff\": \"st_teff\",\n",
        "        \"k2p_srad\": \"st_rad\",\n",
        "        \"k2p_smass\": \"st_mass\"\n",
        "    })\n",
        "    df_k2[\"mission\"] = \"K2\"\n",
        "\n",
        "# TESS Candidate dataset (TOI)\n",
        "if not df_tess.empty:\n",
        "    df_tess = df_tess.rename(columns={\n",
        "        \"toi_period\": \"orb_period\",\n",
        "        \"toi_prad\": \"planet_radius\",\n",
        "        \"st_teff\": \"st_teff\",\n",
        "        \"st_rad\": \"st_rad\",\n",
        "        \"st_mass\": \"st_mass\",\n",
        "        \"toi_disp\": \"disposition\"\n",
        "    })\n",
        "    df_tess[\"mission\"] = \"TESS\""
      ]
    },
    {
      "cell_type": "markdown",
      "metadata": {
        "id": "6q8NuItuSEDd"
      },
      "source": [
        "### combining all the data"
      ]
    },
    {
      "cell_type": "code",
      "execution_count": 14,
      "metadata": {
        "id": "wCI4odtfSI3-"
      },
      "outputs": [],
      "source": [
        "frames = [df for df in [df_koi, df_ps, df_kepler, df_k2, df_k2_conf, df_tess, df_tess_conf] if not df.empty]\n",
        "df_all = pd.concat(frames, ignore_index=True, sort=False)\n",
        "\n",
        "# Keep only rows with known disposition\n",
        "df_all = df_all[df_all[\"disposition\"].notna()]\n",
        "\n",
        "# Restrict labels\n",
        "valid_labels = [\"CONFIRMED\", \"CANDIDATE\", \"FALSE POSITIVE\"]\n",
        "df_all = df_all[df_all[\"disposition\"].isin(valid_labels)]"
      ]
    },
    {
      "cell_type": "markdown",
      "metadata": {
        "id": "MMLlCToDSLGO"
      },
      "source": [
        "### Missing Value Treatment\n",
        "\n",
        "Handling missing values in the dataset:\n",
        "- Converting string values to numeric format\n",
        "- Replacing NaN values with median values for each feature\n",
        "- This ensures the model can work with complete data while maintaining statistical relevance"
      ]
    },
    {
      "cell_type": "code",
      "execution_count": 15,
      "metadata": {
        "id": "LF3lO83NSO4r"
      },
      "outputs": [],
      "source": [
        "for col in cols_common:\n",
        "    if col in df_all.columns:\n",
        "        df_all[col] = pd.to_numeric(df_all[col], errors=\"coerce\")\n",
        "        df_all[col] = df_all[col].fillna(df_all[col].median())"
      ]
    },
    {
      "cell_type": "markdown",
      "metadata": {
        "id": "GGobFonLSRUv"
      },
      "source": [
        "### Feature Engineering\n",
        "\n",
        "Creating new astronomical features to improve classification:\n",
        "- planet_density: Derived from planet mass and radius\n",
        "- star_density: Calculated from stellar mass and radius\n",
        "- flux_received: Estimated stellar flux at planet's orbit\n",
        "\n",
        "These derived features help capture important physical relationships in the planetary systems."
      ]
    },
    {
      "cell_type": "code",
      "execution_count": 16,
      "metadata": {
        "id": "8BfyTzhLSVol"
      },
      "outputs": [],
      "source": [
        "df_all = df_all.assign(\n",
        "    planet_density = df_all.get(\"planet_mass\", 0) / (df_all.get(\"planet_radius\", 1)**3 + 1e-6),\n",
        "    star_density   = df_all.get(\"st_mass\", 0) / (df_all.get(\"st_rad\", 1)**3 + 1e-6),\n",
        "    flux_received  = df_all.get(\"st_teff\", 0) * (df_all.get(\"st_rad\", 1) / np.sqrt(df_all.get(\"sy_dist\", 1) + 1e-6))**2\n",
        ")"
      ]
    },
    {
      "cell_type": "markdown",
      "metadata": {
        "id": "9aE9_jl_SY_1"
      },
      "source": [
        "### Machine Learning Dataset Preparation\n",
        "\n",
        "Preparing the final dataset for model training:\n",
        "- Selecting relevant features and target variable\n",
        "- Removing rows with missing disposition values\n",
        "- Dropping constant columns that don't contribute to classification\n",
        "- Encoding categorical labels for model compatibility"
      ]
    },
    {
      "cell_type": "code",
      "execution_count": 17,
      "metadata": {
        "id": "jWKtQBQfScnc"
      },
      "outputs": [],
      "source": [
        "features = cols_common + [\"planet_density\", \"star_density\", \"flux_received\"]\n",
        "\n",
        "df_ml = df_all.dropna(subset=[\"disposition\"])\n",
        "X = df_ml[features]\n",
        "y = df_ml[\"disposition\"]\n",
        "\n",
        "# Drop constant columns\n",
        "X = X.loc[:, X.nunique() > 1]\n",
        "\n",
        "# Encode labels\n",
        "le = LabelEncoder()\n",
        "y_encoded = le.fit_transform(y)"
      ]
    },
    {
      "cell_type": "markdown",
      "metadata": {
        "id": "sSiPTLyGSfqX"
      },
      "source": [
        "### Train-Test Split\n",
        "\n",
        "Splitting the dataset into training and testing sets:\n",
        "- 80% training data, 20% testing data\n",
        "- Using stratified split to maintain class distribution\n",
        "- Random state set for reproducibility"
      ]
    },
    {
      "cell_type": "code",
      "execution_count": 18,
      "metadata": {
        "id": "vAaYizIJSjls"
      },
      "outputs": [],
      "source": [
        "X_train, X_test, y_train, y_test = train_test_split(\n",
        "    X, y_encoded, test_size=0.2, random_state=42, stratify=y_encoded\n",
        ")"
      ]
    },
    {
      "cell_type": "markdown",
      "metadata": {
        "id": "-rjxVIsdSm_q"
      },
      "source": [
        "### Model Implementation\n",
        "\n",
        "Implementing LightGBM Classifier with optimized parameters:\n",
        "- 1000 decision trees (n_estimators)\n",
        "- Learning rate of 0.05 for gradient descent\n",
        "- Dynamic tree depth with 64 leaves maximum\n",
        "- Subsampling and column sampling for regularization\n",
        "- Class weights balanced to handle imbalanced data"
      ]
    },
    {
      "cell_type": "code",
      "execution_count": 19,
      "metadata": {
        "colab": {
          "base_uri": "https://localhost:8080/"
        },
        "id": "hCqLP0WRSq7u",
        "outputId": "91312ea3-b8f2-4c74-a584-b196ee625286"
      },
      "outputs": [
        {
          "name": "stdout",
          "output_type": "stream",
          "text": [
            "[LightGBM] [Info] Auto-choosing col-wise multi-threading, the overhead of testing was 0.009424 seconds.\n",
            "You can set `force_col_wise=true` to remove the overhead.\n",
            "[LightGBM] [Info] Total Bins 3315\n",
            "[LightGBM] [Info] Number of data points in the train set: 66509, number of used features: 13\n",
            "[LightGBM] [Info] Start training from score -1.098612\n",
            "[LightGBM] [Info] Start training from score -1.098612\n",
            "[LightGBM] [Info] Start training from score -1.098612\n"
          ]
        }
      ],
      "source": [
        "model = LGBMClassifier(\n",
        "    n_estimators=1000,\n",
        "    learning_rate=0.05,\n",
        "    max_depth=-1,\n",
        "    num_leaves=64,\n",
        "    subsample=0.8,\n",
        "    colsample_bytree=0.8,\n",
        "    class_weight=\"balanced\",\n",
        "    random_state=42\n",
        ")\n",
        "\n",
        "# Train\n",
        "model.fit(X_train, y_train)\n",
        "\n",
        "# Predict\n",
        "y_pred = model.predict(X_test)"
      ]
    },
    {
      "cell_type": "markdown",
      "metadata": {
        "id": "qm-gDrNPSvdb"
      },
      "source": [
        "### Model Evaluation\n",
        "\n",
        "Assessing model performance using multiple metrics:\n",
        "- Overall accuracy score\n",
        "- Detailed classification report with precision, recall, and F1-score\n",
        "- Confusion matrix to visualize prediction patterns\n",
        "These metrics help understand how well the model classifies each category of exoplanets."
      ]
    },
    {
      "cell_type": "code",
      "execution_count": 20,
      "metadata": {
        "colab": {
          "base_uri": "https://localhost:8080/"
        },
        "id": "ryIglIEuQLT3",
        "outputId": "93ee88d4-ae4b-4951-c411-bfe904705291"
      },
      "outputs": [
        {
          "name": "stdout",
          "output_type": "stream",
          "text": [
            "Accuracy: 95.58%\n",
            "\n",
            "Classification Report:\n",
            "                precision    recall  f1-score   support\n",
            "\n",
            "     CANDIDATE       0.52      0.67      0.59       671\n",
            "     CONFIRMED       0.99      0.98      0.99     14931\n",
            "FALSE POSITIVE       0.80      0.80      0.80      1026\n",
            "\n",
            "      accuracy                           0.96     16628\n",
            "     macro avg       0.77      0.82      0.79     16628\n",
            "  weighted avg       0.96      0.96      0.96     16628\n",
            "\n",
            "Confusion Matrix:\n",
            "[[  449    85   137]\n",
            " [  238 14624    69]\n",
            " [  176    30   820]]\n"
          ]
        }
      ],
      "source": [
        "print(f\"Accuracy: {accuracy_score(y_test, y_pred)*100:.5}%\")\n",
        "print(\"\\nClassification Report:\")\n",
        "print(classification_report(y_test, y_pred, target_names=le.classes_))\n",
        "print(\"Confusion Matrix:\")\n",
        "print(confusion_matrix(y_test, y_pred))"
      ]
    },
    {
      "cell_type": "markdown",
      "metadata": {
        "id": "6_Xw2_G5URuI"
      },
      "source": [
        "### Feature Importance Visualization\n",
        "\n",
        "Creating a visual representation of feature importance:\n",
        "- Shows the top 15 most influential features\n",
        "- Based on gain metric from LightGBM\n",
        "- Helps understand which astronomical parameters are most crucial for exoplanet classification"
      ]
    },
    {
      "cell_type": "code",
      "execution_count": 21,
      "metadata": {
        "colab": {
          "base_uri": "https://localhost:8080/",
          "height": 472
        },
        "id": "ZelpNXgAS4Wg",
        "outputId": "5230df49-cece-4d94-cec1-6105b2000343"
      },
      "outputs": [
        {
          "data": {
            "image/png": "[encoded data removed]",
            "text/plain": [
              "<Figure size 640x480 with 1 Axes>"
            ]
          },
          "metadata": {},
          "output_type": "display_data"
        }
      ],
      "source": [
        "import matplotlib.pyplot as plt\n",
        "import lightgbm as lgb\n",
        "\n",
        "lgb.plot_importance(model, max_num_features=15, importance_type='gain')\n",
        "plt.show()"
      ]
    },
    {
      "cell_type": "code",
      "execution_count": null,
      "metadata": {
        "id": "BqVpyz4bUQsl"
      },
      "outputs": [],
      "source": []
    }
  ],
  "metadata": {
    "colab": {
      "provenance": []
    },
    "kernelspec": {
      "display_name": "Python 3",
      "name": "python3"
    },
    "language_info": {
      "name": "python"
    }
  },
  "nbformat": 4,
  "nbformat_minor": 0
}
